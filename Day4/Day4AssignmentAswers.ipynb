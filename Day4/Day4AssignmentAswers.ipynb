Question 1 :
Find all occurrence of substring in the given string
�what we think we become; we are Python programmer�
Print the index values.
In [2]:
str1 = "what we think we become; we are python programmer."
print(str1)
str2 = "we"
print(str2)
print(str1.count(str2))
print(str1.find(str2))
print(str1.rfind(str2))
what we think we become; we are python programmer.
we
3
5
25
Question 2 :
Explain using
islower()
isupper()
with different kinds of strings.
In [4]:
st1 = "I am Amol."
print(st1)
print("String isLower? ", st1.islower())
print("String isUpper? ", st1.isupper())
I am Amol.
String isLower?  False
String isUpper?  False
In [6]:
st1 = "I am Mitali"
print(st1)
print("String isLower? ", st1.islower())
print("String isUpper? ", st1.isupper())
I am Mitali
String isLower?  False
String isUpper?  False
In [ ]:
